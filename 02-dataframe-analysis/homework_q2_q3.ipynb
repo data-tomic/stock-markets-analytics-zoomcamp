{
 "cells": [
  {
   "cell_type": "markdown",
   "id": "30b84105",
   "metadata": {},
   "source": [
    "Шаг 1: Импорт"
   ]
  },
  {
   "cell_type": "code",
   "execution_count": 6,
   "id": "53fb290c",
   "metadata": {},
   "outputs": [
    {
     "name": "stdout",
     "output_type": "stream",
     "text": [
      "Шаг 1: Библиотеки импортированы.\n"
     ]
    }
   ],
   "source": [
    "import pandas as pd\n",
    "import requests\n",
    "from io import StringIO\n",
    "import numpy as np\n",
    "import yfinance as yf\n",
    "from datetime import datetime\n",
    "\n",
    "print(\"Шаг 1: Библиотеки импортированы.\")"
   ]
  },
  {
   "cell_type": "markdown",
   "id": "c1246047",
   "metadata": {},
   "source": [
    "Шаг 2: Загрузка данных (Объединенная и улучшенная версия)"
   ]
  },
  {
   "cell_type": "code",
   "execution_count": 7,
   "id": "f969bdb7",
   "metadata": {},
   "outputs": [
    {
     "name": "stdout",
     "output_type": "stream",
     "text": [
      "Шаг 2.1: Список IPO получен. Найдено 77 тикеров.\n",
      "Шаг 2.2: Загружаем исторические данные для 77 тикеров...\n",
      "YF.download() has changed argument auto_adjust default to True\n"
     ]
    },
    {
     "name": "stderr",
     "output_type": "stream",
     "text": [
      "[*********************100%***********************]  77 of 77 completed\n"
     ]
    },
    {
     "name": "stdout",
     "output_type": "stream",
     "text": [
      "Шаг 2.3: Данные для 77 тикеров успешно загружены и обработаны.\n"
     ]
    },
    {
     "name": "stderr",
     "output_type": "stream",
     "text": [
      "/tmp/ipykernel_41352/3649832375.py:38: FutureWarning: The previous implementation of stack is deprecated and will be removed in a future version of pandas. See the What's New notes for pandas 2.1.0 for details. Specify future_stack=True to adopt the new implementation and silence this warning.\n",
      "  stocks_df = stocks_df.stack(level=1).rename_axis(['Date', 'Ticker']).reset_index()\n"
     ]
    }
   ],
   "source": [
    "# --- Этот блок объединяет Часть 2 и Часть 3 ---\n",
    "\n",
    "try:\n",
    "    # --- Загрузка списка IPO ---\n",
    "    url_2024 = \"https://stockanalysis.com/ipos/2024/\"\n",
    "    headers = {\n",
    "        'User-Agent': (\n",
    "            'Mozilla/5.0 (Windows NT 10.0; Win64; x64) '\n",
    "            'AppleWebKit/537.36 (KHTML, like Gecko) '\n",
    "            'Chrome/91.0.4472.124 Safari/537.36'\n",
    "        )\n",
    "    }\n",
    "    \n",
    "    response = requests.get(url_2024, headers=headers, timeout=10)\n",
    "    tables = pd.read_html(StringIO(response.text))\n",
    "    ipos_2024_df = tables[0]\n",
    "\n",
    "    # --- Фильтрация и получение списка тикеров ---\n",
    "    ipos_2024_df['IPO Date'] = pd.to_datetime(ipos_2024_df['IPO Date'])\n",
    "    filtered_ipos = ipos_2024_df[ipos_2024_df['IPO Date'] < datetime(2024, 6, 1)]\n",
    "    ipo_tickers = filtered_ipos['Symbol'].tolist()\n",
    "\n",
    "    # --- Проверка №1: Убедимся, что список тикеров не пуст ---\n",
    "    if not ipo_tickers:\n",
    "        raise ValueError(\"Список тикеров для загрузки пуст!\")\n",
    "    \n",
    "    print(f\"Шаг 2.1: Список IPO получен. Найдено {len(ipo_tickers)} тикеров.\")\n",
    "\n",
    "    # --- Загрузка котировок с yfinance ---\n",
    "    print(f\"Шаг 2.2: Загружаем исторические данные для {len(ipo_tickers)} тикеров...\")\n",
    "    stocks_df = yf.download(ipo_tickers, start='2024-01-01', end='2025-06-10')\n",
    "\n",
    "    # --- Проверка №2: Убедимся, что DataFrame не пуст ---\n",
    "    if stocks_df.empty:\n",
    "        raise ValueError(\"yfinance не смог загрузить данные. DataFrame пуст.\")\n",
    "\n",
    "    # --- Преобразование данных ---\n",
    "    stocks_df = stocks_df.stack(level=1).rename_axis(['Date', 'Ticker']).reset_index()\n",
    "    print(f\"Шаг 2.3: Данные для {stocks_df['Ticker'].nunique()} тикеров успешно загружены и обработаны.\")\n",
    "    \n",
    "except Exception as e:\n",
    "    print(f\"На шаге 2 произошла ошибка: {e}\")\n",
    "    # Создаем пустой DataFrame, чтобы следующий шаг не выдавал NameError\n",
    "    stocks_df = pd.DataFrame()"
   ]
  },
  {
   "cell_type": "markdown",
   "id": "7a25d59e",
   "metadata": {},
   "source": [
    "Шаг 3: Расчеты и финальный ответ"
   ]
  },
  {
   "cell_type": "code",
   "execution_count": 8,
   "id": "0c868af8",
   "metadata": {},
   "outputs": [
    {
     "name": "stdout",
     "output_type": "stream",
     "text": [
      "Шаг 3: Выполняем расчеты...\n",
      "\n",
      "Описательная статистика для проверки:\n",
      "Price  growth_252d   Sharpe\n",
      "count      73.0000  73.0000\n",
      "mean        1.2279  -0.2336\n",
      "std         1.4802   0.6971\n",
      "min         0.0250  -4.0575\n",
      "25%         0.2935  -0.2576\n",
      "50%         0.7632  -0.0141\n",
      "75%         1.4467   0.0131\n",
      "max         8.0974   0.4959\n",
      "\n",
      "==================================================\n",
      "                ОТВЕТ НА ВОПРОС 2\n",
      "==================================================\n",
      "Медианный коэффициент Шарпа для IPO 2024 года: -0.0141\n",
      "==================================================\n"
     ]
    }
   ],
   "source": [
    "# Убедимся, что предыдущий шаг сработал\n",
    "if 'stocks_df' in locals() and not stocks_df.empty:\n",
    "    print(\"Шаг 3: Выполняем расчеты...\")\n",
    "\n",
    "    # Сортируем для корректных вычислений\n",
    "    stocks_df = stocks_df.sort_values(by=['Ticker', 'Date'])\n",
    "\n",
    "    # Расчет годового роста (252 торговых дня)\n",
    "    stocks_df['growth_252d'] = stocks_df.groupby('Ticker')['Close'].transform(lambda x: x / x.shift(252))\n",
    "\n",
    "    # Расчет волатильности\n",
    "    stocks_df['volatility'] = stocks_df.groupby('Ticker')['Close'].transform(lambda x: x.rolling(30).std() * np.sqrt(252))\n",
    "\n",
    "    # Расчет коэффициента Шарпа\n",
    "    risk_free_rate = 0.045\n",
    "    stocks_df['Sharpe'] = (stocks_df['growth_252d'] - 1 - risk_free_rate) / stocks_df['volatility']\n",
    "\n",
    "    # Фильтруем данные на нужную дату\n",
    "    final_data = stocks_df[stocks_df['Date'] == '2025-06-06'].copy()\n",
    "\n",
    "    # Находим медианное значение\n",
    "    median_sharpe = final_data['Sharpe'].median()\n",
    "\n",
    "    print(\"\\nОписательная статистика для проверки:\")\n",
    "    print(final_data[['growth_252d', 'Sharpe']].dropna().describe().round(4))\n",
    "\n",
    "    print(\"\\n\" + \"=\"*50)\n",
    "    print(\"                ОТВЕТ НА ВОПРОС 2\")\n",
    "    print(\"=\"*50)\n",
    "    print(f\"Медианный коэффициент Шарпа для IPO 2024 года: {median_sharpe:.4f}\")\n",
    "    print(\"=\"*50)\n",
    "else:\n",
    "    print(\"Переменная 'stocks_df' не была создана. Пожалуйста, убедитесь, что Шаг 2 выполнился без ошибок.\")"
   ]
  },
  {
   "cell_type": "code",
   "execution_count": 10,
   "id": "32b85a3b",
   "metadata": {},
   "outputs": [
    {
     "name": "stdout",
     "output_type": "stream",
     "text": [
      "Предложенные варианты для проверки (в месяцах): [10, 7, 4, 2]\n",
      "\n",
      "Средняя доходность для каждого из предложенных вариантов:\n",
      "future_growth_10m    0.9133\n",
      "future_growth_7m     0.8463\n",
      "future_growth_4m     0.8227\n",
      "future_growth_2m     0.9369\n",
      "dtype: float64\n",
      "\n",
      "============================================================\n",
      "      ВЫБОР ОПТИМАЛЬНОГО ОТВЕТА ИЗ ПРЕДЛОЖЕННЫХ ВАРИАНТОВ\n",
      "============================================================\n",
      "Среди вариантов [10, 7, 4, 2] месяцев, наилучшую среднюю доходность\n",
      "показывает период в 2 месяца (доходность = 0.9369).\n",
      "\n",
      "=> Программный ответ: 2\n",
      "============================================================\n"
     ]
    }
   ],
   "source": [
    "# Убедимся, что DataFrame first_day_returns_df существует\n",
    "if 'first_day_returns_df' in locals() and not first_day_returns_df.empty:\n",
    "    \n",
    "    # --- Шаг 1: Задаем предложенные варианты ответа ---\n",
    "    possible_months = [10, 7, 4, 2]\n",
    "    print(f\"Предложенные варианты для проверки (в месяцах): {possible_months}\")\n",
    "\n",
    "    # --- Шаг 2: Формируем список колонок для анализа ---\n",
    "    # Названия колонок, которые соответствуют предложенным вариантам\n",
    "    columns_to_check = [f'future_growth_{m}m' for m in possible_months]\n",
    "    \n",
    "    # --- Шаг 3: Рассчитываем среднюю доходность только для этих колонок ---\n",
    "    # Используем .loc для выбора нужных колонок и затем считаем среднее\n",
    "    average_growth_for_options = first_day_returns_df[columns_to_check].mean()\n",
    "\n",
    "    print(\"\\nСредняя доходность для каждого из предложенных вариантов:\")\n",
    "    print(average_growth_for_options.round(4))\n",
    "    \n",
    "    # --- Шаг 4: Находим лучший вариант из предложенных ---\n",
    "    # Находим колонку с максимальным средним значением\n",
    "    best_option_col = average_growth_for_options.idxmax()\n",
    "    \n",
    "    # Извлекаем количество месяцев из названия колонки\n",
    "    best_months = int(best_option_col.replace('future_growth_', '').replace('m', ''))\n",
    "\n",
    "    # --- Финальный вывод ---\n",
    "    print(\"\\n\" + \"=\"*60)\n",
    "    print(\"      ВЫБОР ОПТИМАЛЬНОГО ОТВЕТА ИЗ ПРЕДЛОЖЕННЫХ ВАРИАНТОВ\")\n",
    "    print(\"=\"*60)\n",
    "    print(f\"Среди вариантов {possible_months} месяцев, наилучшую среднюю доходность\")\n",
    "    print(f\"показывает период в {best_months} месяца (доходность = {average_growth_for_options.max():.4f}).\")\n",
    "    print(f\"\\n=> Программный ответ: {best_months}\")\n",
    "    print(\"=\"*60)\n",
    "\n",
    "else:\n",
    "    print(\"Переменная 'first_day_returns_df' не была создана. Пожалуйста, выполните код для Вопроса 3.\")"
   ]
  },
  {
   "cell_type": "code",
   "execution_count": null,
   "id": "ff02488e",
   "metadata": {},
   "outputs": [],
   "source": []
  }
 ],
 "metadata": {
  "kernelspec": {
   "display_name": "Python 3",
   "language": "python",
   "name": "python3"
  },
  "language_info": {
   "codemirror_mode": {
    "name": "ipython",
    "version": 3
   },
   "file_extension": ".py",
   "mimetype": "text/x-python",
   "name": "python",
   "nbconvert_exporter": "python",
   "pygments_lexer": "ipython3",
   "version": "3.12.1"
  }
 },
 "nbformat": 4,
 "nbformat_minor": 5
}
